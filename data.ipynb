{
 "cells": [
  {
   "cell_type": "code",
   "execution_count": 1,
   "id": "96d60f65",
   "metadata": {},
   "outputs": [],
   "source": [
    "import numpy as np\n",
    "import pandas as pd\n",
    "import seaborn as sns\n",
    "import statsmodels.api as sm\n",
    "import scipy.stats as stats\n",
    "import matplotlib.pyplot as plt"
   ]
  },
  {
   "cell_type": "code",
   "execution_count": 2,
   "id": "29867551",
   "metadata": {},
   "outputs": [
    {
     "data": {
      "text/html": [
       "<div>\n",
       "<style scoped>\n",
       "    .dataframe tbody tr th:only-of-type {\n",
       "        vertical-align: middle;\n",
       "    }\n",
       "\n",
       "    .dataframe tbody tr th {\n",
       "        vertical-align: top;\n",
       "    }\n",
       "\n",
       "    .dataframe thead th {\n",
       "        text-align: right;\n",
       "    }\n",
       "</style>\n",
       "<table border=\"1\" class=\"dataframe\">\n",
       "  <thead>\n",
       "    <tr style=\"text-align: right;\">\n",
       "      <th></th>\n",
       "      <th>Moderate Positive Skew</th>\n",
       "      <th>Highly Positive Skew</th>\n",
       "      <th>Moderate Negative Skew</th>\n",
       "      <th>Highly Negative Skew</th>\n",
       "    </tr>\n",
       "  </thead>\n",
       "  <tbody>\n",
       "    <tr>\n",
       "      <th>0</th>\n",
       "      <td>0.899990</td>\n",
       "      <td>2.895074</td>\n",
       "      <td>11.180748</td>\n",
       "      <td>9.027485</td>\n",
       "    </tr>\n",
       "    <tr>\n",
       "      <th>1</th>\n",
       "      <td>1.113554</td>\n",
       "      <td>2.962385</td>\n",
       "      <td>10.842938</td>\n",
       "      <td>9.009762</td>\n",
       "    </tr>\n",
       "    <tr>\n",
       "      <th>2</th>\n",
       "      <td>1.156830</td>\n",
       "      <td>2.966378</td>\n",
       "      <td>10.817934</td>\n",
       "      <td>9.006134</td>\n",
       "    </tr>\n",
       "    <tr>\n",
       "      <th>3</th>\n",
       "      <td>1.264131</td>\n",
       "      <td>3.000324</td>\n",
       "      <td>10.764570</td>\n",
       "      <td>9.000125</td>\n",
       "    </tr>\n",
       "    <tr>\n",
       "      <th>4</th>\n",
       "      <td>1.323914</td>\n",
       "      <td>3.012109</td>\n",
       "      <td>10.753117</td>\n",
       "      <td>8.981296</td>\n",
       "    </tr>\n",
       "    <tr>\n",
       "      <th>...</th>\n",
       "      <td>...</td>\n",
       "      <td>...</td>\n",
       "      <td>...</td>\n",
       "      <td>...</td>\n",
       "    </tr>\n",
       "    <tr>\n",
       "      <th>9995</th>\n",
       "      <td>14.749050</td>\n",
       "      <td>16.289513</td>\n",
       "      <td>-2.980821</td>\n",
       "      <td>-3.254882</td>\n",
       "    </tr>\n",
       "    <tr>\n",
       "      <th>9996</th>\n",
       "      <td>14.854474</td>\n",
       "      <td>16.396252</td>\n",
       "      <td>-3.147526</td>\n",
       "      <td>-3.772332</td>\n",
       "    </tr>\n",
       "    <tr>\n",
       "      <th>9997</th>\n",
       "      <td>15.262103</td>\n",
       "      <td>17.102991</td>\n",
       "      <td>-3.517256</td>\n",
       "      <td>-4.717950</td>\n",
       "    </tr>\n",
       "    <tr>\n",
       "      <th>9998</th>\n",
       "      <td>15.269983</td>\n",
       "      <td>17.628467</td>\n",
       "      <td>-4.689833</td>\n",
       "      <td>-5.670496</td>\n",
       "    </tr>\n",
       "    <tr>\n",
       "      <th>9999</th>\n",
       "      <td>16.204517</td>\n",
       "      <td>18.052331</td>\n",
       "      <td>-6.335679</td>\n",
       "      <td>-7.036091</td>\n",
       "    </tr>\n",
       "  </tbody>\n",
       "</table>\n",
       "<p>10000 rows × 4 columns</p>\n",
       "</div>"
      ],
      "text/plain": [
       "      Moderate Positive Skew  Highly Positive Skew  Moderate Negative Skew  \\\n",
       "0                   0.899990              2.895074               11.180748   \n",
       "1                   1.113554              2.962385               10.842938   \n",
       "2                   1.156830              2.966378               10.817934   \n",
       "3                   1.264131              3.000324               10.764570   \n",
       "4                   1.323914              3.012109               10.753117   \n",
       "...                      ...                   ...                     ...   \n",
       "9995               14.749050             16.289513               -2.980821   \n",
       "9996               14.854474             16.396252               -3.147526   \n",
       "9997               15.262103             17.102991               -3.517256   \n",
       "9998               15.269983             17.628467               -4.689833   \n",
       "9999               16.204517             18.052331               -6.335679   \n",
       "\n",
       "      Highly Negative Skew  \n",
       "0                 9.027485  \n",
       "1                 9.009762  \n",
       "2                 9.006134  \n",
       "3                 9.000125  \n",
       "4                 8.981296  \n",
       "...                    ...  \n",
       "9995             -3.254882  \n",
       "9996             -3.772332  \n",
       "9997             -4.717950  \n",
       "9998             -5.670496  \n",
       "9999             -7.036091  \n",
       "\n",
       "[10000 rows x 4 columns]"
      ]
     },
     "execution_count": 2,
     "metadata": {},
     "output_type": "execute_result"
    }
   ],
   "source": [
    "df=pd.read_csv(\"Data_to_Transform.csv\")\n",
    "df"
   ]
  },
  {
   "cell_type": "code",
   "execution_count": 3,
   "id": "5d0a1aac",
   "metadata": {},
   "outputs": [
    {
     "name": "stderr",
     "output_type": "stream",
     "text": [
      "C:\\Users\\SOWMIYA\\anaconda3\\lib\\site-packages\\pandas\\core\\arraylike.py:358: RuntimeWarning: invalid value encountered in log1p\n",
      "  result = getattr(ufunc, method)(*inputs, **kwargs)\n"
     ]
    },
    {
     "data": {
      "text/html": [
       "<div>\n",
       "<style scoped>\n",
       "    .dataframe tbody tr th:only-of-type {\n",
       "        vertical-align: middle;\n",
       "    }\n",
       "\n",
       "    .dataframe tbody tr th {\n",
       "        vertical-align: top;\n",
       "    }\n",
       "\n",
       "    .dataframe thead th {\n",
       "        text-align: right;\n",
       "    }\n",
       "</style>\n",
       "<table border=\"1\" class=\"dataframe\">\n",
       "  <thead>\n",
       "    <tr style=\"text-align: right;\">\n",
       "      <th></th>\n",
       "      <th>Moderate Positive Skew</th>\n",
       "      <th>log_ModPositive</th>\n",
       "      <th>Highly Positive Skew</th>\n",
       "      <th>log_HighPositive</th>\n",
       "      <th>Moderate Negative Skew</th>\n",
       "      <th>log_ModNegative</th>\n",
       "      <th>Highly Negative Skew</th>\n",
       "      <th>log_HighNegative</th>\n",
       "    </tr>\n",
       "  </thead>\n",
       "  <tbody>\n",
       "    <tr>\n",
       "      <th>0</th>\n",
       "      <td>0.899990</td>\n",
       "      <td>0.641849</td>\n",
       "      <td>2.895074</td>\n",
       "      <td>1.359713</td>\n",
       "      <td>11.180748</td>\n",
       "      <td>2.499857</td>\n",
       "      <td>9.027485</td>\n",
       "      <td>2.305330</td>\n",
       "    </tr>\n",
       "    <tr>\n",
       "      <th>1</th>\n",
       "      <td>1.113554</td>\n",
       "      <td>0.748371</td>\n",
       "      <td>2.962385</td>\n",
       "      <td>1.376846</td>\n",
       "      <td>10.842938</td>\n",
       "      <td>2.471732</td>\n",
       "      <td>9.009762</td>\n",
       "      <td>2.303561</td>\n",
       "    </tr>\n",
       "    <tr>\n",
       "      <th>2</th>\n",
       "      <td>1.156830</td>\n",
       "      <td>0.768640</td>\n",
       "      <td>2.966378</td>\n",
       "      <td>1.377853</td>\n",
       "      <td>10.817934</td>\n",
       "      <td>2.469618</td>\n",
       "      <td>9.006134</td>\n",
       "      <td>2.303198</td>\n",
       "    </tr>\n",
       "    <tr>\n",
       "      <th>3</th>\n",
       "      <td>1.264131</td>\n",
       "      <td>0.817191</td>\n",
       "      <td>3.000324</td>\n",
       "      <td>1.386375</td>\n",
       "      <td>10.764570</td>\n",
       "      <td>2.465092</td>\n",
       "      <td>9.000125</td>\n",
       "      <td>2.302598</td>\n",
       "    </tr>\n",
       "    <tr>\n",
       "      <th>4</th>\n",
       "      <td>1.323914</td>\n",
       "      <td>0.843253</td>\n",
       "      <td>3.012109</td>\n",
       "      <td>1.389317</td>\n",
       "      <td>10.753117</td>\n",
       "      <td>2.464118</td>\n",
       "      <td>8.981296</td>\n",
       "      <td>2.300713</td>\n",
       "    </tr>\n",
       "    <tr>\n",
       "      <th>...</th>\n",
       "      <td>...</td>\n",
       "      <td>...</td>\n",
       "      <td>...</td>\n",
       "      <td>...</td>\n",
       "      <td>...</td>\n",
       "      <td>...</td>\n",
       "      <td>...</td>\n",
       "      <td>...</td>\n",
       "    </tr>\n",
       "    <tr>\n",
       "      <th>9995</th>\n",
       "      <td>14.749050</td>\n",
       "      <td>2.756780</td>\n",
       "      <td>16.289513</td>\n",
       "      <td>2.850100</td>\n",
       "      <td>-2.980821</td>\n",
       "      <td>NaN</td>\n",
       "      <td>-3.254882</td>\n",
       "      <td>NaN</td>\n",
       "    </tr>\n",
       "    <tr>\n",
       "      <th>9996</th>\n",
       "      <td>14.854474</td>\n",
       "      <td>2.763452</td>\n",
       "      <td>16.396252</td>\n",
       "      <td>2.856255</td>\n",
       "      <td>-3.147526</td>\n",
       "      <td>NaN</td>\n",
       "      <td>-3.772332</td>\n",
       "      <td>NaN</td>\n",
       "    </tr>\n",
       "    <tr>\n",
       "      <th>9997</th>\n",
       "      <td>15.262103</td>\n",
       "      <td>2.788837</td>\n",
       "      <td>17.102991</td>\n",
       "      <td>2.896077</td>\n",
       "      <td>-3.517256</td>\n",
       "      <td>NaN</td>\n",
       "      <td>-4.717950</td>\n",
       "      <td>NaN</td>\n",
       "    </tr>\n",
       "    <tr>\n",
       "      <th>9998</th>\n",
       "      <td>15.269983</td>\n",
       "      <td>2.789322</td>\n",
       "      <td>17.628467</td>\n",
       "      <td>2.924691</td>\n",
       "      <td>-4.689833</td>\n",
       "      <td>NaN</td>\n",
       "      <td>-5.670496</td>\n",
       "      <td>NaN</td>\n",
       "    </tr>\n",
       "    <tr>\n",
       "      <th>9999</th>\n",
       "      <td>16.204517</td>\n",
       "      <td>2.845172</td>\n",
       "      <td>18.052331</td>\n",
       "      <td>2.947189</td>\n",
       "      <td>-6.335679</td>\n",
       "      <td>NaN</td>\n",
       "      <td>-7.036091</td>\n",
       "      <td>NaN</td>\n",
       "    </tr>\n",
       "  </tbody>\n",
       "</table>\n",
       "<p>10000 rows × 8 columns</p>\n",
       "</div>"
      ],
      "text/plain": [
       "      Moderate Positive Skew  log_ModPositive  Highly Positive Skew  \\\n",
       "0                   0.899990         0.641849              2.895074   \n",
       "1                   1.113554         0.748371              2.962385   \n",
       "2                   1.156830         0.768640              2.966378   \n",
       "3                   1.264131         0.817191              3.000324   \n",
       "4                   1.323914         0.843253              3.012109   \n",
       "...                      ...              ...                   ...   \n",
       "9995               14.749050         2.756780             16.289513   \n",
       "9996               14.854474         2.763452             16.396252   \n",
       "9997               15.262103         2.788837             17.102991   \n",
       "9998               15.269983         2.789322             17.628467   \n",
       "9999               16.204517         2.845172             18.052331   \n",
       "\n",
       "      log_HighPositive  Moderate Negative Skew  log_ModNegative  \\\n",
       "0             1.359713               11.180748         2.499857   \n",
       "1             1.376846               10.842938         2.471732   \n",
       "2             1.377853               10.817934         2.469618   \n",
       "3             1.386375               10.764570         2.465092   \n",
       "4             1.389317               10.753117         2.464118   \n",
       "...                ...                     ...              ...   \n",
       "9995          2.850100               -2.980821              NaN   \n",
       "9996          2.856255               -3.147526              NaN   \n",
       "9997          2.896077               -3.517256              NaN   \n",
       "9998          2.924691               -4.689833              NaN   \n",
       "9999          2.947189               -6.335679              NaN   \n",
       "\n",
       "      Highly Negative Skew  log_HighNegative  \n",
       "0                 9.027485          2.305330  \n",
       "1                 9.009762          2.303561  \n",
       "2                 9.006134          2.303198  \n",
       "3                 9.000125          2.302598  \n",
       "4                 8.981296          2.300713  \n",
       "...                    ...               ...  \n",
       "9995             -3.254882               NaN  \n",
       "9996             -3.772332               NaN  \n",
       "9997             -4.717950               NaN  \n",
       "9998             -5.670496               NaN  \n",
       "9999             -7.036091               NaN  \n",
       "\n",
       "[10000 rows x 8 columns]"
      ]
     },
     "execution_count": 3,
     "metadata": {},
     "output_type": "execute_result"
    }
   ],
   "source": [
    "df1=df.copy()\n",
    "log_ModPositive = np.log1p(df1[\"Moderate Positive Skew\"])\n",
    "log_HighPositive = np.log1p(df1[\"Highly Positive Skew\"])\n",
    "log_ModNegative = np.log1p(df1[\"Moderate Negative Skew\"])\n",
    "log_HighNegative = np.log1p(df1[\"Highly Negative Skew\"])\n",
    "df1.insert(1,\"log_ModPositive\",log_ModPositive)\n",
    "df1.insert(3,\"log_HighPositive\",log_HighPositive)\n",
    "df1.insert(5,\"log_ModNegative\",log_ModNegative)\n",
    "df1.insert(7,\"log_HighNegative\",log_HighNegative)\n",
    "df1"
   ]
  },
  {
   "cell_type": "code",
   "execution_count": 5,
   "id": "243b2dbf",
   "metadata": {},
   "outputs": [
    {
     "data": {
      "text/plain": [
       "<AxesSubplot:ylabel='Frequency'>"
      ]
     },
     "execution_count": 5,
     "metadata": {},
     "output_type": "execute_result"
    },
    {
     "data": {
      "image/png": "[encoded data removed]",
      "text/plain": [
       "<Figure size 432x288 with 1 Axes>"
      ]
     },
     "metadata": {
      "needs_background": "light"
     },
     "output_type": "display_data"
    }
   ],
   "source": [
    "df1[\"Moderate Positive Skew\"].plot(kind = 'hist')"
   ]
  },
  {
   "cell_type": "code",
   "execution_count": 8,
   "id": "c04d222b",
   "metadata": {},
   "outputs": [
    {
     "data": {
      "text/plain": [
       "<AxesSubplot:ylabel='Frequency'>"
      ]
     },
     "execution_count": 8,
     "metadata": {},
     "output_type": "execute_result"
    },
    {
     "data": {
      "image/png": "[encoded data removed]",
      "text/plain": [
       "<Figure size 432x288 with 1 Axes>"
      ]
     },
     "metadata": {
      "needs_background": "light"
     },
     "output_type": "display_data"
    }
   ],
   "source": [
    "df1[\"log_ModPositive\"].plot(kind = 'hist')"
   ]
  },
  {
   "cell_type": "code",
   "execution_count": 9,
   "id": "b0dfb3e4",
   "metadata": {},
   "outputs": [
    {
     "data": {
      "text/plain": [
       "<AxesSubplot:ylabel='Frequency'>"
      ]
     },
     "execution_count": 9,
     "metadata": {},
     "output_type": "execute_result"
    },
    {
     "data": {
      "image/png": "[encoded data removed]",
      "text/plain": [
       "<Figure size 432x288 with 1 Axes>"
      ]
     },
     "metadata": {
      "needs_background": "light"
     },
     "output_type": "display_data"
    }
   ],
   "source": [
    "df1[\"Highly Positive Skew\"].plot(kind = 'hist')"
   ]
  },
  {
   "cell_type": "code",
   "execution_count": 10,
   "id": "13d5d9da",
   "metadata": {},
   "outputs": [
    {
     "data": {
      "text/plain": [
       "<AxesSubplot:ylabel='Frequency'>"
      ]
     },
     "execution_count": 10,
     "metadata": {},
     "output_type": "execute_result"
    },
    {
     "data": {
      "image/png": "[encoded data removed]",
      "text/plain": [
       "<Figure size 432x288 with 1 Axes>"
      ]
     },
     "metadata": {
      "needs_background": "light"
     },
     "output_type": "display_data"
    }
   ],
   "source": [
    "df1[\"log_HighPositive\"].plot(kind = 'hist')"
   ]
  },
  {
   "cell_type": "code",
   "execution_count": 11,
   "id": "2735d7cd",
   "metadata": {},
   "outputs": [
    {
     "data": {
      "text/plain": [
       "<AxesSubplot:ylabel='Frequency'>"
      ]
     },
     "execution_count": 11,
     "metadata": {},
     "output_type": "execute_result"
    },
    {
     "data": {
      "image/png": "[encoded data removed]",
      "text/plain": [
       "<Figure size 432x288 with 1 Axes>"
      ]
     },
     "metadata": {
      "needs_background": "light"
     },
     "output_type": "display_data"
    }
   ],
   "source": [
    "df1[\"Moderate Negative Skew\"].plot(kind = 'hist')"
   ]
  },
  {
   "cell_type": "code",
   "execution_count": 12,
   "id": "e9163901",
   "metadata": {},
   "outputs": [
    {
     "data": {
      "text/plain": [
       "<AxesSubplot:ylabel='Frequency'>"
      ]
     },
     "execution_count": 12,
     "metadata": {},
     "output_type": "execute_result"
    },
    {
     "data": {
      "image/png": "[encoded data removed]",
      "text/plain": [
       "<Figure size 432x288 with 1 Axes>"
      ]
     },
     "metadata": {
      "needs_background": "light"
     },
     "output_type": "display_data"
    }
   ],
   "source": [
    "df1[\"log_ModNegative\"].plot(kind = 'hist')"
   ]
  },
  {
   "cell_type": "code",
   "execution_count": 13,
   "id": "e7089329",
   "metadata": {},
   "outputs": [
    {
     "data": {
      "text/plain": [
       "<AxesSubplot:ylabel='Frequency'>"
      ]
     },
     "execution_count": 13,
     "metadata": {},
     "output_type": "execute_result"
    },
    {
     "data": {
      "image/png": "[encoded data removed]",
      "text/plain": [
       "<Figure size 432x288 with 1 Axes>"
      ]
     },
     "metadata": {
      "needs_background": "light"
     },
     "output_type": "display_data"
    }
   ],
   "source": [
    "df1[\"Highly Negative Skew\"].plot(kind = 'hist')"
   ]
  },
  {
   "cell_type": "code",
   "execution_count": 14,
   "id": "f2a1f2b7",
   "metadata": {},
   "outputs": [
    {
     "data": {
      "text/plain": [
       "<AxesSubplot:ylabel='Frequency'>"
      ]
     },
     "execution_count": 14,
     "metadata": {},
     "output_type": "execute_result"
    },
    {
     "data": {
      "image/png": "[encoded data removed]",
      "text/plain": [
       "<Figure size 432x288 with 1 Axes>"
      ]
     },
     "metadata": {
      "needs_background": "light"
     },
     "output_type": "display_data"
    }
   ],
   "source": [
    "df1[\"log_HighNegative\"].plot(kind = 'hist')"
   ]
  },
  {
   "cell_type": "code",
   "execution_count": 15,
   "id": "20cd2ed1",
   "metadata": {},
   "outputs": [
    {
     "data": {
      "text/html": [
       "<div>\n",
       "<style scoped>\n",
       "    .dataframe tbody tr th:only-of-type {\n",
       "        vertical-align: middle;\n",
       "    }\n",
       "\n",
       "    .dataframe tbody tr th {\n",
       "        vertical-align: top;\n",
       "    }\n",
       "\n",
       "    .dataframe thead th {\n",
       "        text-align: right;\n",
       "    }\n",
       "</style>\n",
       "<table border=\"1\" class=\"dataframe\">\n",
       "  <thead>\n",
       "    <tr style=\"text-align: right;\">\n",
       "      <th></th>\n",
       "      <th>Moderate Positive Skew</th>\n",
       "      <th>sqrt_ModPositive</th>\n",
       "      <th>Highly Positive Skew</th>\n",
       "      <th>sqrt_HighPositive</th>\n",
       "      <th>Moderate Negative Skew</th>\n",
       "      <th>sqrt_ModNegative</th>\n",
       "      <th>Highly Negative Skew</th>\n",
       "      <th>sqrt_HighNegative</th>\n",
       "    </tr>\n",
       "  </thead>\n",
       "  <tbody>\n",
       "    <tr>\n",
       "      <th>0</th>\n",
       "      <td>0.899990</td>\n",
       "      <td>0.948678</td>\n",
       "      <td>2.895074</td>\n",
       "      <td>1.701492</td>\n",
       "      <td>11.180748</td>\n",
       "      <td>3.343762</td>\n",
       "      <td>9.027485</td>\n",
       "      <td>3.004577</td>\n",
       "    </tr>\n",
       "    <tr>\n",
       "      <th>1</th>\n",
       "      <td>1.113554</td>\n",
       "      <td>1.055251</td>\n",
       "      <td>2.962385</td>\n",
       "      <td>1.721158</td>\n",
       "      <td>10.842938</td>\n",
       "      <td>3.292862</td>\n",
       "      <td>9.009762</td>\n",
       "      <td>3.001627</td>\n",
       "    </tr>\n",
       "    <tr>\n",
       "      <th>2</th>\n",
       "      <td>1.156830</td>\n",
       "      <td>1.075560</td>\n",
       "      <td>2.966378</td>\n",
       "      <td>1.722317</td>\n",
       "      <td>10.817934</td>\n",
       "      <td>3.289063</td>\n",
       "      <td>9.006134</td>\n",
       "      <td>3.001022</td>\n",
       "    </tr>\n",
       "    <tr>\n",
       "      <th>3</th>\n",
       "      <td>1.264131</td>\n",
       "      <td>1.124336</td>\n",
       "      <td>3.000324</td>\n",
       "      <td>1.732144</td>\n",
       "      <td>10.764570</td>\n",
       "      <td>3.280940</td>\n",
       "      <td>9.000125</td>\n",
       "      <td>3.000021</td>\n",
       "    </tr>\n",
       "    <tr>\n",
       "      <th>4</th>\n",
       "      <td>1.323914</td>\n",
       "      <td>1.150615</td>\n",
       "      <td>3.012109</td>\n",
       "      <td>1.735543</td>\n",
       "      <td>10.753117</td>\n",
       "      <td>3.279195</td>\n",
       "      <td>8.981296</td>\n",
       "      <td>2.996881</td>\n",
       "    </tr>\n",
       "    <tr>\n",
       "      <th>...</th>\n",
       "      <td>...</td>\n",
       "      <td>...</td>\n",
       "      <td>...</td>\n",
       "      <td>...</td>\n",
       "      <td>...</td>\n",
       "      <td>...</td>\n",
       "      <td>...</td>\n",
       "      <td>...</td>\n",
       "    </tr>\n",
       "    <tr>\n",
       "      <th>9995</th>\n",
       "      <td>14.749050</td>\n",
       "      <td>3.840449</td>\n",
       "      <td>16.289513</td>\n",
       "      <td>4.036027</td>\n",
       "      <td>-2.980821</td>\n",
       "      <td>NaN</td>\n",
       "      <td>-3.254882</td>\n",
       "      <td>NaN</td>\n",
       "    </tr>\n",
       "    <tr>\n",
       "      <th>9996</th>\n",
       "      <td>14.854474</td>\n",
       "      <td>3.854150</td>\n",
       "      <td>16.396252</td>\n",
       "      <td>4.049229</td>\n",
       "      <td>-3.147526</td>\n",
       "      <td>NaN</td>\n",
       "      <td>-3.772332</td>\n",
       "      <td>NaN</td>\n",
       "    </tr>\n",
       "    <tr>\n",
       "      <th>9997</th>\n",
       "      <td>15.262103</td>\n",
       "      <td>3.906674</td>\n",
       "      <td>17.102991</td>\n",
       "      <td>4.135576</td>\n",
       "      <td>-3.517256</td>\n",
       "      <td>NaN</td>\n",
       "      <td>-4.717950</td>\n",
       "      <td>NaN</td>\n",
       "    </tr>\n",
       "    <tr>\n",
       "      <th>9998</th>\n",
       "      <td>15.269983</td>\n",
       "      <td>3.907683</td>\n",
       "      <td>17.628467</td>\n",
       "      <td>4.198627</td>\n",
       "      <td>-4.689833</td>\n",
       "      <td>NaN</td>\n",
       "      <td>-5.670496</td>\n",
       "      <td>NaN</td>\n",
       "    </tr>\n",
       "    <tr>\n",
       "      <th>9999</th>\n",
       "      <td>16.204517</td>\n",
       "      <td>4.025483</td>\n",
       "      <td>18.052331</td>\n",
       "      <td>4.248803</td>\n",
       "      <td>-6.335679</td>\n",
       "      <td>NaN</td>\n",
       "      <td>-7.036091</td>\n",
       "      <td>NaN</td>\n",
       "    </tr>\n",
       "  </tbody>\n",
       "</table>\n",
       "<p>10000 rows × 8 columns</p>\n",
       "</div>"
      ],
      "text/plain": [
       "      Moderate Positive Skew  sqrt_ModPositive  Highly Positive Skew  \\\n",
       "0                   0.899990          0.948678              2.895074   \n",
       "1                   1.113554          1.055251              2.962385   \n",
       "2                   1.156830          1.075560              2.966378   \n",
       "3                   1.264131          1.124336              3.000324   \n",
       "4                   1.323914          1.150615              3.012109   \n",
       "...                      ...               ...                   ...   \n",
       "9995               14.749050          3.840449             16.289513   \n",
       "9996               14.854474          3.854150             16.396252   \n",
       "9997               15.262103          3.906674             17.102991   \n",
       "9998               15.269983          3.907683             17.628467   \n",
       "9999               16.204517          4.025483             18.052331   \n",
       "\n",
       "      sqrt_HighPositive  Moderate Negative Skew  sqrt_ModNegative  \\\n",
       "0              1.701492               11.180748          3.343762   \n",
       "1              1.721158               10.842938          3.292862   \n",
       "2              1.722317               10.817934          3.289063   \n",
       "3              1.732144               10.764570          3.280940   \n",
       "4              1.735543               10.753117          3.279195   \n",
       "...                 ...                     ...               ...   \n",
       "9995           4.036027               -2.980821               NaN   \n",
       "9996           4.049229               -3.147526               NaN   \n",
       "9997           4.135576               -3.517256               NaN   \n",
       "9998           4.198627               -4.689833               NaN   \n",
       "9999           4.248803               -6.335679               NaN   \n",
       "\n",
       "      Highly Negative Skew  sqrt_HighNegative  \n",
       "0                 9.027485           3.004577  \n",
       "1                 9.009762           3.001627  \n",
       "2                 9.006134           3.001022  \n",
       "3                 9.000125           3.000021  \n",
       "4                 8.981296           2.996881  \n",
       "...                    ...                ...  \n",
       "9995             -3.254882                NaN  \n",
       "9996             -3.772332                NaN  \n",
       "9997             -4.717950                NaN  \n",
       "9998             -5.670496                NaN  \n",
       "9999             -7.036091                NaN  \n",
       "\n",
       "[10000 rows x 8 columns]"
      ]
     },
     "execution_count": 15,
     "metadata": {},
     "output_type": "execute_result"
    }
   ],
   "source": [
    "df2=df.copy()\n",
    "sqrt_ModPositive = df[\"Moderate Positive Skew\"]**(1/2)\n",
    "sqrt_HighPositive = df[\"Highly Positive Skew\"]**(1/2)\n",
    "sqrt_ModNegative = df[\"Moderate Negative Skew\"]**(1/2)\n",
    "sqrt_HighNegative = df[\"Highly Negative Skew\"]**(1/2)\n",
    "df2.insert(1,\"sqrt_ModPositive\",sqrt_ModPositive)\n",
    "df2.insert(3,\"sqrt_HighPositive\",sqrt_HighPositive)\n",
    "df2.insert(5,\"sqrt_ModNegative\",sqrt_ModNegative)\n",
    "df2.insert(7,\"sqrt_HighNegative\",sqrt_HighNegative)\n",
    "df2"
   ]
  },
  {
   "cell_type": "code",
   "execution_count": 16,
   "id": "3440d2bb",
   "metadata": {},
   "outputs": [
    {
     "data": {
      "text/plain": [
       "<AxesSubplot:ylabel='Frequency'>"
      ]
     },
     "execution_count": 16,
     "metadata": {},
     "output_type": "execute_result"
    },
    {
     "data": {
      "image/png": "[encoded data removed]",
      "text/plain": [
       "<Figure size 432x288 with 1 Axes>"
      ]
     },
     "metadata": {
      "needs_background": "light"
     },
     "output_type": "display_data"
    }
   ],
   "source": [
    "df2[\"Moderate Positive Skew\"].plot(kind = 'hist')"
   ]
  },
  {
   "cell_type": "code",
   "execution_count": 17,
   "id": "2a9bb04f",
   "metadata": {},
   "outputs": [
    {
     "data": {
      "text/plain": [
       "<AxesSubplot:ylabel='Frequency'>"
      ]
     },
     "execution_count": 17,
     "metadata": {},
     "output_type": "execute_result"
    },
    {
     "data": {
      "image/png": "[encoded data removed]",
      "text/plain": [
       "<Figure size 432x288 with 1 Axes>"
      ]
     },
     "metadata": {
      "needs_background": "light"
     },
     "output_type": "display_data"
    }
   ],
   "source": [
    "df2[\"sqrt_ModPositive\"].plot(kind = 'hist')"
   ]
  },
  {
   "cell_type": "code",
   "execution_count": 18,
   "id": "3cfac22f",
   "metadata": {},
   "outputs": [
    {
     "data": {
      "text/plain": [
       "<AxesSubplot:ylabel='Frequency'>"
      ]
     },
     "execution_count": 18,
     "metadata": {},
     "output_type": "execute_result"
    },
    {
     "data": {
      "image/png": "[encoded data removed]",
      "text/plain": [
       "<Figure size 432x288 with 1 Axes>"
      ]
     },
     "metadata": {
      "needs_background": "light"
     },
     "output_type": "display_data"
    }
   ],
   "source": [
    "df2[\"Highly Positive Skew\"].plot(kind = 'hist')"
   ]
  },
  {
   "cell_type": "code",
   "execution_count": 19,
   "id": "5417e186",
   "metadata": {},
   "outputs": [
    {
     "data": {
      "text/plain": [
       "<AxesSubplot:ylabel='Frequency'>"
      ]
     },
     "execution_count": 19,
     "metadata": {},
     "output_type": "execute_result"
    },
    {
     "data": {
      "image/png": "[encoded data removed]",
      "text/plain": [
       "<Figure size 432x288 with 1 Axes>"
      ]
     },
     "metadata": {
      "needs_background": "light"
     },
     "output_type": "display_data"
    }
   ],
   "source": [
    "df2[\"sqrt_HighPositive\"].plot(kind = 'hist')"
   ]
  },
  {
   "cell_type": "code",
   "execution_count": 20,
   "id": "169f2b4b",
   "metadata": {},
   "outputs": [
    {
     "data": {
      "text/plain": [
       "<AxesSubplot:ylabel='Frequency'>"
      ]
     },
     "execution_count": 20,
     "metadata": {},
     "output_type": "execute_result"
    },
    {
     "data": {
      "image/png": "[encoded data removed]",
      "text/plain": [
       "<Figure size 432x288 with 1 Axes>"
      ]
     },
     "metadata": {
      "needs_background": "light"
     },
     "output_type": "display_data"
    }
   ],
   "source": [
    "df2[\"Moderate Negative Skew\"].plot(kind = 'hist')"
   ]
  },
  {
   "cell_type": "code",
   "execution_count": 21,
   "id": "e224a5b8",
   "metadata": {},
   "outputs": [
    {
     "data": {
      "text/plain": [
       "<AxesSubplot:ylabel='Frequency'>"
      ]
     },
     "execution_count": 21,
     "metadata": {},
     "output_type": "execute_result"
    },
    {
     "data": {
      "image/png": "[encoded data removed]",
      "text/plain": [
       "<Figure size 432x288 with 1 Axes>"
      ]
     },
     "metadata": {
      "needs_background": "light"
     },
     "output_type": "display_data"
    }
   ],
   "source": [
    "df2[\"sqrt_ModNegative\"].plot(kind = 'hist')"
   ]
  },
  {
   "cell_type": "code",
   "execution_count": 22,
   "id": "2d0fab2f",
   "metadata": {},
   "outputs": [
    {
     "data": {
      "text/plain": [
       "<AxesSubplot:ylabel='Frequency'>"
      ]
     },
     "execution_count": 22,
     "metadata": {},
     "output_type": "execute_result"
    },
    {
     "data": {
      "image/png": "[encoded data removed]",
      "text/plain": [
       "<Figure size 432x288 with 1 Axes>"
      ]
     },
     "metadata": {
      "needs_background": "light"
     },
     "output_type": "display_data"
    }
   ],
   "source": [
    "df2[\"Highly Negative Skew\"].plot(kind = 'hist')"
   ]
  },
  {
   "cell_type": "code",
   "execution_count": 23,
   "id": "6c5ab670",
   "metadata": {},
   "outputs": [
    {
     "data": {
      "text/plain": [
       "<AxesSubplot:ylabel='Frequency'>"
      ]
     },
     "execution_count": 23,
     "metadata": {},
     "output_type": "execute_result"
    },
    {
     "data": {
      "image/png": "[encoded data removed]",
      "text/plain": [
       "<Figure size 432x288 with 1 Axes>"
      ]
     },
     "metadata": {
      "needs_background": "light"
     },
     "output_type": "display_data"
    }
   ],
   "source": [
    "df2[\"sqrt_HighNegative\"].plot(kind = 'hist')"
   ]
  },
  {
   "cell_type": "code",
   "execution_count": 25,
   "id": "1b1762d6",
   "metadata": {},
   "outputs": [
    {
     "data": {
      "text/html": [
       "<div>\n",
       "<style scoped>\n",
       "    .dataframe tbody tr th:only-of-type {\n",
       "        vertical-align: middle;\n",
       "    }\n",
       "\n",
       "    .dataframe tbody tr th {\n",
       "        vertical-align: top;\n",
       "    }\n",
       "\n",
       "    .dataframe thead th {\n",
       "        text-align: right;\n",
       "    }\n",
       "</style>\n",
       "<table border=\"1\" class=\"dataframe\">\n",
       "  <thead>\n",
       "    <tr style=\"text-align: right;\">\n",
       "      <th></th>\n",
       "      <th>Moderate Positive Skew</th>\n",
       "      <th>reciprocal_ModPositive</th>\n",
       "      <th>Highly Positive Skew</th>\n",
       "      <th>reciprocal_HighPositive</th>\n",
       "      <th>Moderate Negative Skew</th>\n",
       "      <th>reciprocal_ModNegative</th>\n",
       "      <th>Highly Negative Skew</th>\n",
       "      <th>reciprocal_HighNegative</th>\n",
       "    </tr>\n",
       "  </thead>\n",
       "  <tbody>\n",
       "    <tr>\n",
       "      <th>0</th>\n",
       "      <td>0.899990</td>\n",
       "      <td>1.111123</td>\n",
       "      <td>2.895074</td>\n",
       "      <td>0.345414</td>\n",
       "      <td>11.180748</td>\n",
       "      <td>0.089439</td>\n",
       "      <td>9.027485</td>\n",
       "      <td>0.110773</td>\n",
       "    </tr>\n",
       "    <tr>\n",
       "      <th>1</th>\n",
       "      <td>1.113554</td>\n",
       "      <td>0.898026</td>\n",
       "      <td>2.962385</td>\n",
       "      <td>0.337566</td>\n",
       "      <td>10.842938</td>\n",
       "      <td>0.092226</td>\n",
       "      <td>9.009762</td>\n",
       "      <td>0.110991</td>\n",
       "    </tr>\n",
       "    <tr>\n",
       "      <th>2</th>\n",
       "      <td>1.156830</td>\n",
       "      <td>0.864431</td>\n",
       "      <td>2.966378</td>\n",
       "      <td>0.337112</td>\n",
       "      <td>10.817934</td>\n",
       "      <td>0.092439</td>\n",
       "      <td>9.006134</td>\n",
       "      <td>0.111035</td>\n",
       "    </tr>\n",
       "    <tr>\n",
       "      <th>3</th>\n",
       "      <td>1.264131</td>\n",
       "      <td>0.791057</td>\n",
       "      <td>3.000324</td>\n",
       "      <td>0.333297</td>\n",
       "      <td>10.764570</td>\n",
       "      <td>0.092897</td>\n",
       "      <td>9.000125</td>\n",
       "      <td>0.111110</td>\n",
       "    </tr>\n",
       "    <tr>\n",
       "      <th>4</th>\n",
       "      <td>1.323914</td>\n",
       "      <td>0.755336</td>\n",
       "      <td>3.012109</td>\n",
       "      <td>0.331993</td>\n",
       "      <td>10.753117</td>\n",
       "      <td>0.092996</td>\n",
       "      <td>8.981296</td>\n",
       "      <td>0.111343</td>\n",
       "    </tr>\n",
       "    <tr>\n",
       "      <th>...</th>\n",
       "      <td>...</td>\n",
       "      <td>...</td>\n",
       "      <td>...</td>\n",
       "      <td>...</td>\n",
       "      <td>...</td>\n",
       "      <td>...</td>\n",
       "      <td>...</td>\n",
       "      <td>...</td>\n",
       "    </tr>\n",
       "    <tr>\n",
       "      <th>9995</th>\n",
       "      <td>14.749050</td>\n",
       "      <td>0.067801</td>\n",
       "      <td>16.289513</td>\n",
       "      <td>0.061389</td>\n",
       "      <td>-2.980821</td>\n",
       "      <td>-0.335478</td>\n",
       "      <td>-3.254882</td>\n",
       "      <td>-0.307231</td>\n",
       "    </tr>\n",
       "    <tr>\n",
       "      <th>9996</th>\n",
       "      <td>14.854474</td>\n",
       "      <td>0.067320</td>\n",
       "      <td>16.396252</td>\n",
       "      <td>0.060990</td>\n",
       "      <td>-3.147526</td>\n",
       "      <td>-0.317710</td>\n",
       "      <td>-3.772332</td>\n",
       "      <td>-0.265088</td>\n",
       "    </tr>\n",
       "    <tr>\n",
       "      <th>9997</th>\n",
       "      <td>15.262103</td>\n",
       "      <td>0.065522</td>\n",
       "      <td>17.102991</td>\n",
       "      <td>0.058469</td>\n",
       "      <td>-3.517256</td>\n",
       "      <td>-0.284313</td>\n",
       "      <td>-4.717950</td>\n",
       "      <td>-0.211956</td>\n",
       "    </tr>\n",
       "    <tr>\n",
       "      <th>9998</th>\n",
       "      <td>15.269983</td>\n",
       "      <td>0.065488</td>\n",
       "      <td>17.628467</td>\n",
       "      <td>0.056726</td>\n",
       "      <td>-4.689833</td>\n",
       "      <td>-0.213227</td>\n",
       "      <td>-5.670496</td>\n",
       "      <td>-0.176351</td>\n",
       "    </tr>\n",
       "    <tr>\n",
       "      <th>9999</th>\n",
       "      <td>16.204517</td>\n",
       "      <td>0.061711</td>\n",
       "      <td>18.052331</td>\n",
       "      <td>0.055395</td>\n",
       "      <td>-6.335679</td>\n",
       "      <td>-0.157836</td>\n",
       "      <td>-7.036091</td>\n",
       "      <td>-0.142124</td>\n",
       "    </tr>\n",
       "  </tbody>\n",
       "</table>\n",
       "<p>10000 rows × 8 columns</p>\n",
       "</div>"
      ],
      "text/plain": [
       "      Moderate Positive Skew  reciprocal_ModPositive  Highly Positive Skew  \\\n",
       "0                   0.899990                1.111123              2.895074   \n",
       "1                   1.113554                0.898026              2.962385   \n",
       "2                   1.156830                0.864431              2.966378   \n",
       "3                   1.264131                0.791057              3.000324   \n",
       "4                   1.323914                0.755336              3.012109   \n",
       "...                      ...                     ...                   ...   \n",
       "9995               14.749050                0.067801             16.289513   \n",
       "9996               14.854474                0.067320             16.396252   \n",
       "9997               15.262103                0.065522             17.102991   \n",
       "9998               15.269983                0.065488             17.628467   \n",
       "9999               16.204517                0.061711             18.052331   \n",
       "\n",
       "      reciprocal_HighPositive  Moderate Negative Skew  reciprocal_ModNegative  \\\n",
       "0                    0.345414               11.180748                0.089439   \n",
       "1                    0.337566               10.842938                0.092226   \n",
       "2                    0.337112               10.817934                0.092439   \n",
       "3                    0.333297               10.764570                0.092897   \n",
       "4                    0.331993               10.753117                0.092996   \n",
       "...                       ...                     ...                     ...   \n",
       "9995                 0.061389               -2.980821               -0.335478   \n",
       "9996                 0.060990               -3.147526               -0.317710   \n",
       "9997                 0.058469               -3.517256               -0.284313   \n",
       "9998                 0.056726               -4.689833               -0.213227   \n",
       "9999                 0.055395               -6.335679               -0.157836   \n",
       "\n",
       "      Highly Negative Skew  reciprocal_HighNegative  \n",
       "0                 9.027485                 0.110773  \n",
       "1                 9.009762                 0.110991  \n",
       "2                 9.006134                 0.111035  \n",
       "3                 9.000125                 0.111110  \n",
       "4                 8.981296                 0.111343  \n",
       "...                    ...                      ...  \n",
       "9995             -3.254882                -0.307231  \n",
       "9996             -3.772332                -0.265088  \n",
       "9997             -4.717950                -0.211956  \n",
       "9998             -5.670496                -0.176351  \n",
       "9999             -7.036091                -0.142124  \n",
       "\n",
       "[10000 rows x 8 columns]"
      ]
     },
     "execution_count": 25,
     "metadata": {},
     "output_type": "execute_result"
    }
   ],
   "source": [
    "df3=df.copy()\n",
    "reciprocal_ModPositive = 1/df[\"Moderate Positive Skew\"]\n",
    "reciprocal_HighPositive = 1/df[\"Highly Positive Skew\"]\n",
    "reciprocal_ModNegative = 1/df[\"Moderate Negative Skew\"]\n",
    "reciprocal_HighNegative = 1/df[\"Highly Negative Skew\"]\n",
    "df3.insert(1,\"reciprocal_ModPositive\",reciprocal_ModPositive)\n",
    "df3.insert(3,\"reciprocal_HighPositive\",reciprocal_HighPositive)\n",
    "df3.insert(5,\"reciprocal_ModNegative\",reciprocal_ModNegative)\n",
    "df3.insert(7,\"reciprocal_HighNegative\",reciprocal_HighNegative)\n",
    "df3\n"
   ]
  },
  {
   "cell_type": "code",
   "execution_count": 27,
   "id": "914d8d4c",
   "metadata": {},
   "outputs": [
    {
     "data": {
      "text/plain": [
       "<AxesSubplot:ylabel='Frequency'>"
      ]
     },
     "execution_count": 27,
     "metadata": {},
     "output_type": "execute_result"
    },
    {
     "data": {
      "image/png": "[encoded data removed]",
      "text/plain": [
       "<Figure size 432x288 with 1 Axes>"
      ]
     },
     "metadata": {
      "needs_background": "light"
     },
     "output_type": "display_data"
    }
   ],
   "source": [
    "df3[\"reciprocal_ModPositive\"].plot(kind = 'hist')"
   ]
  },
  {
   "cell_type": "code",
   "execution_count": 28,
   "id": "1f72f6d8",
   "metadata": {},
   "outputs": [
    {
     "data": {
      "text/plain": [
       "<AxesSubplot:ylabel='Frequency'>"
      ]
     },
     "execution_count": 28,
     "metadata": {},
     "output_type": "execute_result"
    },
    {
     "data": {
      "image/png": "[encoded data removed]",
      "text/plain": [
       "<Figure size 432x288 with 1 Axes>"
      ]
     },
     "metadata": {
      "needs_background": "light"
     },
     "output_type": "display_data"
    }
   ],
   "source": [
    "df3[\"reciprocal_HighPositive\"].plot(kind = 'hist')"
   ]
  },
  {
   "cell_type": "code",
   "execution_count": 29,
   "id": "d9b05a44",
   "metadata": {},
   "outputs": [
    {
     "data": {
      "text/plain": [
       "<AxesSubplot:ylabel='Frequency'>"
      ]
     },
     "execution_count": 29,
     "metadata": {},
     "output_type": "execute_result"
    },
    {
     "data": {
      "image/png": "[encoded data removed]",
      "text/plain": [
       "<Figure size 432x288 with 1 Axes>"
      ]
     },
     "metadata": {
      "needs_background": "light"
     },
     "output_type": "display_data"
    }
   ],
   "source": [
    "df3[\"reciprocal_ModNegative\"].plot(kind = 'hist')"
   ]
  },
  {
   "cell_type": "code",
   "execution_count": 30,
   "id": "88e5bf51",
   "metadata": {},
   "outputs": [
    {
     "data": {
      "text/plain": [
       "<AxesSubplot:ylabel='Frequency'>"
      ]
     },
     "execution_count": 30,
     "metadata": {},
     "output_type": "execute_result"
    },
    {
     "data": {
      "image/png": "[encoded data removed]",
      "text/plain": [
       "<Figure size 432x288 with 1 Axes>"
      ]
     },
     "metadata": {
      "needs_background": "light"
     },
     "output_type": "display_data"
    }
   ],
   "source": [
    "df3[\"reciprocal_HighNegative\"].plot(kind = 'hist')"
   ]
  },
  {
   "cell_type": "code",
   "execution_count": 32,
   "id": "1b76b613",
   "metadata": {},
   "outputs": [
    {
     "data": {
      "text/html": [
       "<div>\n",
       "<style scoped>\n",
       "    .dataframe tbody tr th:only-of-type {\n",
       "        vertical-align: middle;\n",
       "    }\n",
       "\n",
       "    .dataframe tbody tr th {\n",
       "        vertical-align: top;\n",
       "    }\n",
       "\n",
       "    .dataframe thead th {\n",
       "        text-align: right;\n",
       "    }\n",
       "</style>\n",
       "<table border=\"1\" class=\"dataframe\">\n",
       "  <thead>\n",
       "    <tr style=\"text-align: right;\">\n",
       "      <th></th>\n",
       "      <th>Moderate Positive Skew</th>\n",
       "      <th>bcx_ModPositive</th>\n",
       "      <th>Highly Positive Skew</th>\n",
       "      <th>bcx_HighPositive</th>\n",
       "      <th>Moderate Negative Skew</th>\n",
       "      <th>Highly Negative Skew</th>\n",
       "    </tr>\n",
       "  </thead>\n",
       "  <tbody>\n",
       "    <tr>\n",
       "      <th>0</th>\n",
       "      <td>0.899990</td>\n",
       "      <td>-0.103432</td>\n",
       "      <td>2.895074</td>\n",
       "      <td>0.812909</td>\n",
       "      <td>11.180748</td>\n",
       "      <td>9.027485</td>\n",
       "    </tr>\n",
       "    <tr>\n",
       "      <th>1</th>\n",
       "      <td>1.113554</td>\n",
       "      <td>0.109628</td>\n",
       "      <td>2.962385</td>\n",
       "      <td>0.825921</td>\n",
       "      <td>10.842938</td>\n",
       "      <td>9.009762</td>\n",
       "    </tr>\n",
       "    <tr>\n",
       "      <th>2</th>\n",
       "      <td>1.156830</td>\n",
       "      <td>0.149502</td>\n",
       "      <td>2.966378</td>\n",
       "      <td>0.826679</td>\n",
       "      <td>10.817934</td>\n",
       "      <td>9.006134</td>\n",
       "    </tr>\n",
       "    <tr>\n",
       "      <th>3</th>\n",
       "      <td>1.264131</td>\n",
       "      <td>0.244374</td>\n",
       "      <td>3.000324</td>\n",
       "      <td>0.833058</td>\n",
       "      <td>10.764570</td>\n",
       "      <td>9.000125</td>\n",
       "    </tr>\n",
       "    <tr>\n",
       "      <th>4</th>\n",
       "      <td>1.323914</td>\n",
       "      <td>0.294988</td>\n",
       "      <td>3.012109</td>\n",
       "      <td>0.835247</td>\n",
       "      <td>10.753117</td>\n",
       "      <td>8.981296</td>\n",
       "    </tr>\n",
       "    <tr>\n",
       "      <th>...</th>\n",
       "      <td>...</td>\n",
       "      <td>...</td>\n",
       "      <td>...</td>\n",
       "      <td>...</td>\n",
       "      <td>...</td>\n",
       "      <td>...</td>\n",
       "    </tr>\n",
       "    <tr>\n",
       "      <th>9995</th>\n",
       "      <td>14.749050</td>\n",
       "      <td>4.496676</td>\n",
       "      <td>16.289513</td>\n",
       "      <td>1.457701</td>\n",
       "      <td>-2.980821</td>\n",
       "      <td>-3.254882</td>\n",
       "    </tr>\n",
       "    <tr>\n",
       "      <th>9996</th>\n",
       "      <td>14.854474</td>\n",
       "      <td>4.515148</td>\n",
       "      <td>16.396252</td>\n",
       "      <td>1.459189</td>\n",
       "      <td>-3.147526</td>\n",
       "      <td>-3.772332</td>\n",
       "    </tr>\n",
       "    <tr>\n",
       "      <th>9997</th>\n",
       "      <td>15.262103</td>\n",
       "      <td>4.585788</td>\n",
       "      <td>17.102991</td>\n",
       "      <td>1.468681</td>\n",
       "      <td>-3.517256</td>\n",
       "      <td>-4.717950</td>\n",
       "    </tr>\n",
       "    <tr>\n",
       "      <th>9998</th>\n",
       "      <td>15.269983</td>\n",
       "      <td>4.587141</td>\n",
       "      <td>17.628467</td>\n",
       "      <td>1.475357</td>\n",
       "      <td>-4.689833</td>\n",
       "      <td>-5.670496</td>\n",
       "    </tr>\n",
       "    <tr>\n",
       "      <th>9999</th>\n",
       "      <td>16.204517</td>\n",
       "      <td>4.744558</td>\n",
       "      <td>18.052331</td>\n",
       "      <td>1.480525</td>\n",
       "      <td>-6.335679</td>\n",
       "      <td>-7.036091</td>\n",
       "    </tr>\n",
       "  </tbody>\n",
       "</table>\n",
       "<p>10000 rows × 6 columns</p>\n",
       "</div>"
      ],
      "text/plain": [
       "      Moderate Positive Skew  bcx_ModPositive  Highly Positive Skew  \\\n",
       "0                   0.899990        -0.103432              2.895074   \n",
       "1                   1.113554         0.109628              2.962385   \n",
       "2                   1.156830         0.149502              2.966378   \n",
       "3                   1.264131         0.244374              3.000324   \n",
       "4                   1.323914         0.294988              3.012109   \n",
       "...                      ...              ...                   ...   \n",
       "9995               14.749050         4.496676             16.289513   \n",
       "9996               14.854474         4.515148             16.396252   \n",
       "9997               15.262103         4.585788             17.102991   \n",
       "9998               15.269983         4.587141             17.628467   \n",
       "9999               16.204517         4.744558             18.052331   \n",
       "\n",
       "      bcx_HighPositive  Moderate Negative Skew  Highly Negative Skew  \n",
       "0             0.812909               11.180748              9.027485  \n",
       "1             0.825921               10.842938              9.009762  \n",
       "2             0.826679               10.817934              9.006134  \n",
       "3             0.833058               10.764570              9.000125  \n",
       "4             0.835247               10.753117              8.981296  \n",
       "...                ...                     ...                   ...  \n",
       "9995          1.457701               -2.980821             -3.254882  \n",
       "9996          1.459189               -3.147526             -3.772332  \n",
       "9997          1.468681               -3.517256             -4.717950  \n",
       "9998          1.475357               -4.689833             -5.670496  \n",
       "9999          1.480525               -6.335679             -7.036091  \n",
       "\n",
       "[10000 rows x 6 columns]"
      ]
     },
     "execution_count": 32,
     "metadata": {},
     "output_type": "execute_result"
    }
   ],
   "source": [
    "from scipy.stats import boxcox\n",
    "df4=df.copy()\n",
    "bcx_ModPositive, lam = boxcox(df[\"Moderate Positive Skew\"])\n",
    "bcx_HighPositive, lam = boxcox(df[\"Highly Positive Skew\"])\n",
    "df4.insert(1,\"bcx_ModPositive\",bcx_ModPositive)\n",
    "df4.insert(3,\"bcx_HighPositive\",bcx_HighPositive)\n",
    "df4"
   ]
  },
  {
   "cell_type": "code",
   "execution_count": 34,
   "id": "604f0737",
   "metadata": {},
   "outputs": [
    {
     "data": {
      "text/plain": [
       "<AxesSubplot:ylabel='Frequency'>"
      ]
     },
     "execution_count": 34,
     "metadata": {},
     "output_type": "execute_result"
    },
    {
     "data": {
      "image/png": "[encoded data removed]",
      "text/plain": [
       "<Figure size 432x288 with 1 Axes>"
      ]
     },
     "metadata": {
      "needs_background": "light"
     },
     "output_type": "display_data"
    }
   ],
   "source": [
    "df4[\"bcx_ModPositive\"].plot(kind = 'hist')"
   ]
  },
  {
   "cell_type": "code",
   "execution_count": 35,
   "id": "a68ad364",
   "metadata": {},
   "outputs": [
    {
     "data": {
      "text/plain": [
       "<AxesSubplot:ylabel='Frequency'>"
      ]
     },
     "execution_count": 35,
     "metadata": {},
     "output_type": "execute_result"
    },
    {
     "data": {
      "image/png": "[encoded data removed]",
      "text/plain": [
       "<Figure size 432x288 with 1 Axes>"
      ]
     },
     "metadata": {
      "needs_background": "light"
     },
     "output_type": "display_data"
    }
   ],
   "source": [
    "df4[\"bcx_HighPositive\"].plot(kind = 'hist')"
   ]
  },
  {
   "cell_type": "code",
   "execution_count": 44,
   "id": "a2ee7cca",
   "metadata": {},
   "outputs": [
    {
     "data": {
      "text/html": [
       "<div>\n",
       "<style scoped>\n",
       "    .dataframe tbody tr th:only-of-type {\n",
       "        vertical-align: middle;\n",
       "    }\n",
       "\n",
       "    .dataframe tbody tr th {\n",
       "        vertical-align: top;\n",
       "    }\n",
       "\n",
       "    .dataframe thead th {\n",
       "        text-align: right;\n",
       "    }\n",
       "</style>\n",
       "<table border=\"1\" class=\"dataframe\">\n",
       "  <thead>\n",
       "    <tr style=\"text-align: right;\">\n",
       "      <th></th>\n",
       "      <th>Moderate Positive Skew</th>\n",
       "      <th>yf_ModPositive</th>\n",
       "      <th>Highly Positive Skew</th>\n",
       "      <th>yf_HighPositive</th>\n",
       "      <th>Moderate Negative Skew</th>\n",
       "      <th>yf_ModNegative</th>\n",
       "      <th>Highly Negative Skew</th>\n",
       "      <th>yf_HighNegative</th>\n",
       "    </tr>\n",
       "  </thead>\n",
       "  <tbody>\n",
       "    <tr>\n",
       "      <th>0</th>\n",
       "      <td>0.899990</td>\n",
       "      <td>0.690865</td>\n",
       "      <td>2.895074</td>\n",
       "      <td>51.081487</td>\n",
       "      <td>11.180748</td>\n",
       "      <td>29.137805</td>\n",
       "      <td>9.027485</td>\n",
       "      <td>51.081487</td>\n",
       "    </tr>\n",
       "    <tr>\n",
       "      <th>1</th>\n",
       "      <td>1.113554</td>\n",
       "      <td>0.815560</td>\n",
       "      <td>2.962385</td>\n",
       "      <td>50.898041</td>\n",
       "      <td>10.842938</td>\n",
       "      <td>27.885272</td>\n",
       "      <td>9.009762</td>\n",
       "      <td>50.898041</td>\n",
       "    </tr>\n",
       "    <tr>\n",
       "      <th>2</th>\n",
       "      <td>1.156830</td>\n",
       "      <td>0.839629</td>\n",
       "      <td>2.966378</td>\n",
       "      <td>50.860530</td>\n",
       "      <td>10.817934</td>\n",
       "      <td>27.793301</td>\n",
       "      <td>9.006134</td>\n",
       "      <td>50.860530</td>\n",
       "    </tr>\n",
       "    <tr>\n",
       "      <th>3</th>\n",
       "      <td>1.264131</td>\n",
       "      <td>0.897735</td>\n",
       "      <td>3.000324</td>\n",
       "      <td>50.798432</td>\n",
       "      <td>10.764570</td>\n",
       "      <td>27.597360</td>\n",
       "      <td>9.000125</td>\n",
       "      <td>50.798432</td>\n",
       "    </tr>\n",
       "    <tr>\n",
       "      <th>4</th>\n",
       "      <td>1.323914</td>\n",
       "      <td>0.929191</td>\n",
       "      <td>3.012109</td>\n",
       "      <td>50.604084</td>\n",
       "      <td>10.753117</td>\n",
       "      <td>27.555368</td>\n",
       "      <td>8.981296</td>\n",
       "      <td>50.604084</td>\n",
       "    </tr>\n",
       "    <tr>\n",
       "      <th>...</th>\n",
       "      <td>...</td>\n",
       "      <td>...</td>\n",
       "      <td>...</td>\n",
       "      <td>...</td>\n",
       "      <td>...</td>\n",
       "      <td>...</td>\n",
       "      <td>...</td>\n",
       "      <td>...</td>\n",
       "    </tr>\n",
       "    <tr>\n",
       "      <th>9995</th>\n",
       "      <td>14.749050</td>\n",
       "      <td>3.828849</td>\n",
       "      <td>16.289513</td>\n",
       "      <td>-1.433326</td>\n",
       "      <td>-2.980821</td>\n",
       "      <td>-1.949345</td>\n",
       "      <td>-3.254882</td>\n",
       "      <td>-1.433326</td>\n",
       "    </tr>\n",
       "    <tr>\n",
       "      <th>9996</th>\n",
       "      <td>14.854474</td>\n",
       "      <td>3.841318</td>\n",
       "      <td>16.396252</td>\n",
       "      <td>-1.545673</td>\n",
       "      <td>-3.147526</td>\n",
       "      <td>-2.028952</td>\n",
       "      <td>-3.772332</td>\n",
       "      <td>-1.545673</td>\n",
       "    </tr>\n",
       "    <tr>\n",
       "      <th>9997</th>\n",
       "      <td>15.262103</td>\n",
       "      <td>3.888934</td>\n",
       "      <td>17.102991</td>\n",
       "      <td>-1.722267</td>\n",
       "      <td>-3.517256</td>\n",
       "      <td>-2.199693</td>\n",
       "      <td>-4.717950</td>\n",
       "      <td>-1.722267</td>\n",
       "    </tr>\n",
       "    <tr>\n",
       "      <th>9998</th>\n",
       "      <td>15.269983</td>\n",
       "      <td>3.889845</td>\n",
       "      <td>17.628467</td>\n",
       "      <td>-1.872430</td>\n",
       "      <td>-4.689833</td>\n",
       "      <td>-2.697151</td>\n",
       "      <td>-5.670496</td>\n",
       "      <td>-1.872430</td>\n",
       "    </tr>\n",
       "    <tr>\n",
       "      <th>9999</th>\n",
       "      <td>16.204517</td>\n",
       "      <td>3.995584</td>\n",
       "      <td>18.052331</td>\n",
       "      <td>-2.053503</td>\n",
       "      <td>-6.335679</td>\n",
       "      <td>-3.311402</td>\n",
       "      <td>-7.036091</td>\n",
       "      <td>-2.053503</td>\n",
       "    </tr>\n",
       "  </tbody>\n",
       "</table>\n",
       "<p>10000 rows × 8 columns</p>\n",
       "</div>"
      ],
      "text/plain": [
       "      Moderate Positive Skew  yf_ModPositive  Highly Positive Skew  \\\n",
       "0                   0.899990        0.690865              2.895074   \n",
       "1                   1.113554        0.815560              2.962385   \n",
       "2                   1.156830        0.839629              2.966378   \n",
       "3                   1.264131        0.897735              3.000324   \n",
       "4                   1.323914        0.929191              3.012109   \n",
       "...                      ...             ...                   ...   \n",
       "9995               14.749050        3.828849             16.289513   \n",
       "9996               14.854474        3.841318             16.396252   \n",
       "9997               15.262103        3.888934             17.102991   \n",
       "9998               15.269983        3.889845             17.628467   \n",
       "9999               16.204517        3.995584             18.052331   \n",
       "\n",
       "      yf_HighPositive  Moderate Negative Skew  yf_ModNegative  \\\n",
       "0           51.081487               11.180748       29.137805   \n",
       "1           50.898041               10.842938       27.885272   \n",
       "2           50.860530               10.817934       27.793301   \n",
       "3           50.798432               10.764570       27.597360   \n",
       "4           50.604084               10.753117       27.555368   \n",
       "...               ...                     ...             ...   \n",
       "9995        -1.433326               -2.980821       -1.949345   \n",
       "9996        -1.545673               -3.147526       -2.028952   \n",
       "9997        -1.722267               -3.517256       -2.199693   \n",
       "9998        -1.872430               -4.689833       -2.697151   \n",
       "9999        -2.053503               -6.335679       -3.311402   \n",
       "\n",
       "      Highly Negative Skew  yf_HighNegative  \n",
       "0                 9.027485        51.081487  \n",
       "1                 9.009762        50.898041  \n",
       "2                 9.006134        50.860530  \n",
       "3                 9.000125        50.798432  \n",
       "4                 8.981296        50.604084  \n",
       "...                    ...              ...  \n",
       "9995             -3.254882        -1.433326  \n",
       "9996             -3.772332        -1.545673  \n",
       "9997             -4.717950        -1.722267  \n",
       "9998             -5.670496        -1.872430  \n",
       "9999             -7.036091        -2.053503  \n",
       "\n",
       "[10000 rows x 8 columns]"
      ]
     },
     "execution_count": 44,
     "metadata": {},
     "output_type": "execute_result"
    }
   ],
   "source": [
    "from scipy.stats import yeojohnson\n",
    "df5=df.copy()\n",
    "yf_ModPositive, lam = yeojohnson(df[\"Moderate Positive Skew\"])\n",
    "yf_HighPositive, lam = yeojohnson(df[\"Highly Negative Skew\"])\n",
    "yf_ModNegative, lam = yeojohnson(df[\"Moderate Negative Skew\"])\n",
    "yf_HighNegative, lam = yeojohnson(df[\"Highly Negative Skew\"])\n",
    "df5.insert(1,\"yf_ModPositive\",yf_ModPositive)\n",
    "df5.insert(3,\"yf_HighPositive\",yf_HighPositive)\n",
    "df5.insert(5,\"yf_ModNegative\",yf_ModNegative)\n",
    "df5.insert(7,\"yf_HighNegative\",yf_HighNegative)\n",
    "df5"
   ]
  },
  {
   "cell_type": "code",
   "execution_count": 45,
   "id": "79f3a945",
   "metadata": {},
   "outputs": [
    {
     "data": {
      "text/plain": [
       "<AxesSubplot:ylabel='Frequency'>"
      ]
     },
     "execution_count": 45,
     "metadata": {},
     "output_type": "execute_result"
    },
    {
     "data": {
      "image/png": "[encoded data removed]",
      "text/plain": [
       "<Figure size 432x288 with 1 Axes>"
      ]
     },
     "metadata": {
      "needs_background": "light"
     },
     "output_type": "display_data"
    }
   ],
   "source": [
    "df5[\"yf_ModNegative\"].plot(kind = 'hist')"
   ]
  },
  {
   "cell_type": "code",
   "execution_count": 46,
   "id": "356c2a3a",
   "metadata": {},
   "outputs": [
    {
     "data": {
      "text/plain": [
       "<AxesSubplot:ylabel='Frequency'>"
      ]
     },
     "execution_count": 46,
     "metadata": {},
     "output_type": "execute_result"
    },
    {
     "data": {
      "image/png": "[encoded data removed]",
      "text/plain": [
       "<Figure size 432x288 with 1 Axes>"
      ]
     },
     "metadata": {
      "needs_background": "light"
     },
     "output_type": "display_data"
    }
   ],
   "source": [
    "df5[\"yf_HighNegative\"].plot(kind = 'hist')"
   ]
  },
  {
   "cell_type": "code",
   "execution_count": 47,
   "id": "4f595431",
   "metadata": {},
   "outputs": [
    {
     "data": {
      "text/plain": [
       "<AxesSubplot:ylabel='Frequency'>"
      ]
     },
     "execution_count": 47,
     "metadata": {},
     "output_type": "execute_result"
    },
    {
     "data": {
      "image/png": "[encoded data removed]",
      "text/plain": [
       "<Figure size 432x288 with 1 Axes>"
      ]
     },
     "metadata": {
      "needs_background": "light"
     },
     "output_type": "display_data"
    }
   ],
   "source": [
    "df5[\"yf_HighPositive\"].plot(kind = 'hist')"
   ]
  },
  {
   "cell_type": "code",
   "execution_count": 48,
   "id": "e34e377c",
   "metadata": {},
   "outputs": [
    {
     "data": {
      "text/plain": [
       "<AxesSubplot:ylabel='Frequency'>"
      ]
     },
     "execution_count": 48,
     "metadata": {},
     "output_type": "execute_result"
    },
    {
     "data": {
      "image/png": "[encoded data removed]",
      "text/plain": [
       "<Figure size 432x288 with 1 Axes>"
      ]
     },
     "metadata": {
      "needs_background": "light"
     },
     "output_type": "display_data"
    }
   ],
   "source": [
    "df5[\"yf_ModPositive\"].plot(kind = 'hist')"
   ]
  },
  {
   "cell_type": "code",
   "execution_count": null,
   "id": "0601ef29",
   "metadata": {},
   "outputs": [],
   "source": []
  }
 ],
 "metadata": {
  "kernelspec": {
   "display_name": "Python 3",
   "language": "python",
   "name": "python3"
  },
  "language_info": {
   "codemirror_mode": {
    "name": "ipython",
    "version": 3
   },
   "file_extension": ".py",
   "mimetype": "text/x-python",
   "name": "python",
   "nbconvert_exporter": "python",
   "pygments_lexer": "ipython3",
   "version": "3.8.8"
  }
 },
 "nbformat": 4,
 "nbformat_minor": 5
}
